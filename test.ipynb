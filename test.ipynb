{
 "cells": [
  {
   "cell_type": "code",
   "execution_count": null,
   "id": "8c6a2ae1",
   "metadata": {},
   "outputs": [],
   "source": []
  },
  {
   "cell_type": "code",
   "execution_count": 3,
   "id": "69231eab",
   "metadata": {},
   "outputs": [
    {
     "ename": "NameError",
     "evalue": "name 'pd' is not defined",
     "output_type": "error",
     "traceback": [
      "\u001b[0;31m---------------------------------------------------------------------------\u001b[0m",
      "\u001b[0;31mNameError\u001b[0m                                 Traceback (most recent call last)",
      "Cell \u001b[0;32mIn[3], line 1\u001b[0m\n\u001b[0;32m----> 1\u001b[0m symbols \u001b[38;5;241m=\u001b[39m pd\u001b[38;5;241m.\u001b[39mread_csv(\u001b[38;5;124m\"\u001b[39m\u001b[38;5;124m./data/symbols_valid_meta.csv\u001b[39m\u001b[38;5;124m\"\u001b[39m)\n\u001b[1;32m      2\u001b[0m symbols_df \u001b[38;5;241m=\u001b[39m pd\u001b[38;5;241m.\u001b[39mDataFrame(symbols)\n",
      "\u001b[0;31mNameError\u001b[0m: name 'pd' is not defined"
     ]
    }
   ],
   "source": [
    "symbols = pd.read_csv(\"./data/symbols_valid_meta.csv\")\n",
    "symbols_df = pd.DataFrame(symbols)"
   ]
  },
  {
   "cell_type": "code",
   "execution_count": null,
   "id": "37b12a82",
   "metadata": {},
   "outputs": [],
   "source": []
  },
  {
   "cell_type": "code",
   "execution_count": null,
   "id": "100b37df",
   "metadata": {},
   "outputs": [],
   "source": [
    "intc = pd.DataFrame(AAPL)"
   ]
  },
  {
   "cell_type": "code",
   "execution_count": null,
   "id": "b95bb1c2",
   "metadata": {},
   "outputs": [],
   "source": [
    "intc"
   ]
  },
  {
   "cell_type": "code",
   "execution_count": null,
   "id": "981365ca",
   "metadata": {},
   "outputs": [],
   "source": [
    "symbols_df"
   ]
  },
  {
   "cell_type": "code",
   "execution_count": null,
   "id": "805c65b8",
   "metadata": {},
   "outputs": [],
   "source": [
    "intc_row = symbols_df[symbols_df['Symbol'] == 'INTC'] #get Intel row"
   ]
  },
  {
   "cell_type": "code",
   "execution_count": null,
   "id": "e7ac9cb0",
   "metadata": {},
   "outputs": [],
   "source": [
    "intc_row"
   ]
  },
  {
   "cell_type": "code",
   "execution_count": null,
   "id": "f573c1d3",
   "metadata": {},
   "outputs": [],
   "source": [
    "intc_close = intc[\"Close\"]"
   ]
  },
  {
   "cell_type": "code",
   "execution_count": null,
   "id": "dd47ccf3",
   "metadata": {},
   "outputs": [],
   "source": [
    "intc_close_np = intc_close.to_numpy()"
   ]
  },
  {
   "cell_type": "code",
   "execution_count": null,
   "id": "52dd3091",
   "metadata": {},
   "outputs": [],
   "source": [
    "plt.plot(intc_close_np[-200:])"
   ]
  },
  {
   "cell_type": "code",
   "execution_count": null,
   "id": "a06389e0",
   "metadata": {},
   "outputs": [],
   "source": [
    "X = get_view(intc_close_np, 10)\n",
    "print(X)\n",
    "y = intc_close_np[10:]\n",
    "print(y)\n",
    "assert(len(X) == len(y))"
   ]
  },
  {
   "cell_type": "code",
   "execution_count": null,
   "id": "642da100",
   "metadata": {},
   "outputs": [],
   "source": [
    "X_train, X_test, y_train, y_test = train_test_split(X, y, test_size=0.2, random_state=42)"
   ]
  },
  {
   "cell_type": "code",
   "execution_count": null,
   "id": "1e205e6a",
   "metadata": {},
   "outputs": [],
   "source": [
    "rf_model = RandomForestRegressor(n_estimators=100, random_state=42)\n",
    "rf_model.fit(X_train, y_train)"
   ]
  },
  {
   "cell_type": "code",
   "execution_count": null,
   "id": "deb55471",
   "metadata": {
    "jupyter": {
     "source_hidden": true
    }
   },
   "outputs": [],
   "source": [
    "y_pred = rf_model.predict(X_test)"
   ]
  },
  {
   "cell_type": "code",
   "execution_count": null,
   "id": "098feb3d",
   "metadata": {},
   "outputs": [],
   "source": [
    "def calculate_mape(y_true, y_pred):\n",
    "    y_true = np.array(y_true)\n",
    "    y_pred = np.array(y_pred)\n",
    "    absolute_percentage_error = np.abs((y_true - y_pred) / y_true)\n",
    "    mape = np.mean(absolute_percentage_error) * 100\n",
    "    return mape"
   ]
  },
  {
   "cell_type": "code",
   "execution_count": null,
   "id": "75959e92",
   "metadata": {},
   "outputs": [],
   "source": [
    "mape = calculate_mape(y_test, y_pred)\n",
    "print(f\"Mean Absolute Percentage Error (MAPE): {mape:.2f}%\")"
   ]
  },
  {
   "cell_type": "code",
   "execution_count": null,
   "id": "7235db87-ac63-41c1-8775-a3f3fb0de92f",
   "metadata": {},
   "outputs": [],
   "source": []
  }
 ],
 "metadata": {
  "kernelspec": {
   "display_name": "Python 3 (ipykernel)",
   "language": "python",
   "name": "python3"
  },
  "language_info": {
   "codemirror_mode": {
    "name": "ipython",
    "version": 3
   },
   "file_extension": ".py",
   "mimetype": "text/x-python",
   "name": "python",
   "nbconvert_exporter": "python",
   "pygments_lexer": "ipython3",
   "version": "3.12.2"
  }
 },
 "nbformat": 4,
 "nbformat_minor": 5
}
